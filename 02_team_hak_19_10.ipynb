{
  "nbformat": 4,
  "nbformat_minor": 0,
  "metadata": {
    "colab": {
      "name": "02_team_hak_19_10.ipynb",
      "provenance": [],
      "collapsed_sections": [],
      "include_colab_link": true
    },
    "kernelspec": {
      "name": "python3",
      "display_name": "Python 3"
    }
  },
  "cells": [
    {
      "cell_type": "markdown",
      "metadata": {
        "id": "view-in-github",
        "colab_type": "text"
      },
      "source": [
        "<a href=\"https://colab.research.google.com/github/Egozit/ds_master_dataton/blob/main/02_team_hak_19_10.ipynb\" target=\"_parent\"><img src=\"https://colab.research.google.com/assets/colab-badge.svg\" alt=\"Open In Colab\"/></a>"
      ]
    },
    {
      "cell_type": "markdown",
      "metadata": {
        "id": "V5m8rMC-oCFx"
      },
      "source": [
        "## Импорт"
      ]
    },
    {
      "cell_type": "code",
      "metadata": {
        "id": "he4tvfF7oBVv"
      },
      "source": [
        "import pandas as pd\n",
        "import numpy as np\n",
        "import requests \n",
        "import re\n",
        "\n",
        "import json\n",
        "from lxml import etree, objectify\n",
        "from bs4 import BeautifulSoup\n",
        "from pandas.io.json import json_normalize "
      ],
      "execution_count": null,
      "outputs": []
    },
    {
      "cell_type": "markdown",
      "metadata": {
        "id": "Usvvc4k8ovw2"
      },
      "source": [
        "## Функции"
      ]
    },
    {
      "cell_type": "code",
      "metadata": {
        "id": "X76abErKoKq7"
      },
      "source": [
        "def html_table_read(html_table, to_erase=None):\n",
        "    \"\"\"\n",
        "    This funtion transform BeautifulSoup tag object with table\n",
        "    into list of columns. This version removes references from\n",
        "    column names only.\n",
        "    TODO: 1. Add references check\n",
        "    TODO: 2. Refactoring is needed\n",
        "    \n",
        "    :param bs4.tag html_table:\n",
        "    :param list to_erase: [optional] list of symbols which must \n",
        "                                     be removed from the results \n",
        "                                     (Default = [])\n",
        "    \n",
        "    :return: list (Content of the table), \n",
        "             list (Content of the column row)\n",
        "    \"\"\"\n",
        "    \n",
        "    if to_erase is None:\n",
        "        to_erase = []    \n",
        "    column_names = []\n",
        "    table_content = []\n",
        "\n",
        "    html_rows = html_table.find_all('tr')\n",
        "    raw_column_names = html_rows[0].find_all('th')\n",
        "\n",
        "    for element in raw_column_names:\n",
        "        if element.find('sup') is not None:\n",
        "            element.sup.decompose()\n",
        "        name = re.sub(\"<.*?>\", \"\", str(element))\n",
        "        column_names.append(name)\n",
        "\n",
        "    for row in html_rows:\n",
        "        if row.td is not None:\n",
        "            current_row = []\n",
        "            row_elements = row.find_all('td')\n",
        "            for element in range(0, len(row_elements)):\n",
        "                value = re.sub(\"<.*?>\", \"\", str(row_elements[element]))\n",
        "                for symbol in to_erase:\n",
        "                    value = value.replace(symbol, \"\")\n",
        "                current_row.append(value)\n",
        "            table_content.append(current_row)\n",
        "    \n",
        "    return(table_content, column_names)\n",
        "\n",
        "def get_cov_area_tag_df(html_table):\n",
        "    \"\"\"\n",
        "    This function parses data from html file into two-dimensional list.\n",
        "    TODO: 1. Data cleaning\n",
        "    TODO: 2. Reworking function describtion\n",
        "    TODO: 3. Find a way to join it to main table\n",
        "    \"\"\"\n",
        "    table = []\n",
        "    for tag in html_table.find('div', style = \"text-align: justify;\").find_all('td'):\n",
        "        table.append(tag.span.text)\n",
        "\n",
        "    num_el = 7\n",
        "    table = [table[i:i + num_el] for i in range(0, len(table), num_el)]   \n",
        "    return table\n"
      ],
      "execution_count": null,
      "outputs": []
    },
    {
      "cell_type": "markdown",
      "metadata": {
        "id": "_U2RYuHRpJ9l"
      },
      "source": [
        "### Загрузка таблицы районов города Москва"
      ]
    },
    {
      "cell_type": "code",
      "metadata": {
        "id": "92J9ZNTupJBE"
      },
      "source": [
        "target_page = ('https://ru.wikipedia.org/wiki/%D0%A1%D0%BF%D0%B8%D1%81%D0%BE%D0'\n",
        "               + '%BA_%D1%80%D0%B0%D0%B9%D0%BE%D0%BD%D0%BE%D0%B2_%D0%B8_%D0%BF%'\n",
        "               + 'D0%BE%D1%81%D0%B5%D0%BB%D0%B5%D0%BD%D0%B8%D0%B9_%D0%9C%D0%BE%'\n",
        "               + 'D1%81%D0%BA%D0%B2%D1%8B')\n",
        "to_drop = [' ', '\\t', '\\n', '\\xa0']\n",
        "\n",
        "districts_response = requests.get(target_page)\n",
        "\n",
        "with open('msk_districts.html', 'w+b') as f:\n",
        "    f.write(districts_response.content)\n",
        "\n",
        "with open('msk_districts.html', encoding='UTF-8') as page:\n",
        "    soup = BeautifulSoup(page, 'lxml')\n",
        "    \n",
        "dist_html_table = soup.find('table')\n",
        "table_content, column_names = html_table_read(dist_html_table, to_drop)\n",
        "\n",
        "raw_districts_df = pd.DataFrame(table_content, columns=column_names)\n",
        "raw_districts_df.drop(columns=['№', \n",
        "                               'Флаг', \n",
        "                               'Герб', \n",
        "                               'Название района/поселения[3][4]', \n",
        "                               'Адми-нистра-тивныйокруг'], \n",
        "                      inplace=True, \n",
        "                      errors='ignore')\n",
        "raw_districts_df.columns = ['dist_name', \n",
        "                            'dist_square', \n",
        "                            'dist_population', \n",
        "                            'dist_population_density', \n",
        "                            'living_space_m2', \n",
        "                            'living_space_m2_per_person']"
      ],
      "execution_count": null,
      "outputs": []
    },
    {
      "cell_type": "code",
      "metadata": {
        "id": "STJpKorrqdVB",
        "outputId": "54d70000-6ec8-4704-fe5f-2baa083370aa",
        "colab": {
          "base_uri": "https://localhost:8080/",
          "height": 204
        }
      },
      "source": [
        "raw_districts_df.head()"
      ],
      "execution_count": null,
      "outputs": [
        {
          "output_type": "execute_result",
          "data": {
            "text/html": [
              "<div>\n",
              "<style scoped>\n",
              "    .dataframe tbody tr th:only-of-type {\n",
              "        vertical-align: middle;\n",
              "    }\n",
              "\n",
              "    .dataframe tbody tr th {\n",
              "        vertical-align: top;\n",
              "    }\n",
              "\n",
              "    .dataframe thead th {\n",
              "        text-align: right;\n",
              "    }\n",
              "</style>\n",
              "<table border=\"1\" class=\"dataframe\">\n",
              "  <thead>\n",
              "    <tr style=\"text-align: right;\">\n",
              "      <th></th>\n",
              "      <th>dist_name</th>\n",
              "      <th>dist_square</th>\n",
              "      <th>dist_population</th>\n",
              "      <th>dist_population_density</th>\n",
              "      <th>living_space_m2</th>\n",
              "      <th>living_space_m2_per_person</th>\n",
              "    </tr>\n",
              "  </thead>\n",
              "  <tbody>\n",
              "    <tr>\n",
              "      <th>0</th>\n",
              "      <td>Академический</td>\n",
              "      <td>5.83</td>\n",
              "      <td>110038</td>\n",
              "      <td>18874.44</td>\n",
              "      <td>2467.0</td>\n",
              "      <td>22.7</td>\n",
              "    </tr>\n",
              "    <tr>\n",
              "      <th>1</th>\n",
              "      <td>Алексеевский</td>\n",
              "      <td>5.29</td>\n",
              "      <td>80634</td>\n",
              "      <td>15242.72</td>\n",
              "      <td>1607.9</td>\n",
              "      <td>20.5</td>\n",
              "    </tr>\n",
              "    <tr>\n",
              "      <th>2</th>\n",
              "      <td>Алтуфьевский</td>\n",
              "      <td>3.25</td>\n",
              "      <td>57697</td>\n",
              "      <td>17752.92</td>\n",
              "      <td>839.3</td>\n",
              "      <td>15.5</td>\n",
              "    </tr>\n",
              "    <tr>\n",
              "      <th>3</th>\n",
              "      <td>Арбат</td>\n",
              "      <td>2.11</td>\n",
              "      <td>36308</td>\n",
              "      <td>17207.58</td>\n",
              "      <td>731.0</td>\n",
              "      <td>26.0</td>\n",
              "    </tr>\n",
              "    <tr>\n",
              "      <th>4</th>\n",
              "      <td>Аэропорт</td>\n",
              "      <td>4.58</td>\n",
              "      <td>79541</td>\n",
              "      <td>17367.03</td>\n",
              "      <td>1939.7</td>\n",
              "      <td>25.9</td>\n",
              "    </tr>\n",
              "  </tbody>\n",
              "</table>\n",
              "</div>"
            ],
            "text/plain": [
              "       dist_name  dist_square  ...  living_space_m2 living_space_m2_per_person\n",
              "0  Академический         5.83  ...           2467.0                       22.7\n",
              "1   Алексеевский         5.29  ...           1607.9                       20.5\n",
              "2   Алтуфьевский         3.25  ...            839.3                       15.5\n",
              "3          Арбат         2.11  ...            731.0                       26.0\n",
              "4       Аэропорт         4.58  ...           1939.7                       25.9\n",
              "\n",
              "[5 rows x 6 columns]"
            ]
          },
          "metadata": {
            "tags": []
          },
          "execution_count": 10
        }
      ]
    },
    {
      "cell_type": "code",
      "metadata": {
        "id": "TBU2tTRgt3pH",
        "outputId": "891c751e-6dcf-40b4-a850-fb0f3ad17dcd",
        "colab": {
          "base_uri": "https://localhost:8080/",
          "height": 163
        }
      },
      "source": [
        "float(raw_districts_df.dist_square[0])"
      ],
      "execution_count": null,
      "outputs": [
        {
          "output_type": "error",
          "ename": "ValueError",
          "evalue": "ignored",
          "traceback": [
            "\u001b[0;31m---------------------------------------------------------------------------\u001b[0m",
            "\u001b[0;31mValueError\u001b[0m                                Traceback (most recent call last)",
            "\u001b[0;32m<ipython-input-6-bc4455f0c596>\u001b[0m in \u001b[0;36m<module>\u001b[0;34m()\u001b[0m\n\u001b[0;32m----> 1\u001b[0;31m \u001b[0mfloat\u001b[0m\u001b[0;34m(\u001b[0m\u001b[0mraw_districts_df\u001b[0m\u001b[0;34m.\u001b[0m\u001b[0mdist_square\u001b[0m\u001b[0;34m[\u001b[0m\u001b[0;36m0\u001b[0m\u001b[0;34m]\u001b[0m\u001b[0;34m)\u001b[0m\u001b[0;34m\u001b[0m\u001b[0;34m\u001b[0m\u001b[0m\n\u001b[0m",
            "\u001b[0;31mValueError\u001b[0m: could not convert string to float: '5,83'"
          ]
        }
      ]
    },
    {
      "cell_type": "markdown",
      "metadata": {
        "id": "1yhqHTSXtAJv"
      },
      "source": [
        "# Данные по Зонам охвата магазинов"
      ]
    },
    {
      "cell_type": "code",
      "metadata": {
        "id": "5wRQqu1QxZ97",
        "outputId": "1dfb5394-f700-4dc7-b4d3-d5a61dd66e5c",
        "colab": {
          "base_uri": "https://localhost:8080/",
          "height": 309
        }
      },
      "source": [
        "main_domain_url = 'http://www.arhitrade.com/education.php?Id=43'\n",
        "headers = {'User-Agent': 'Mozilla/5.0 (Windows NT 10.0; Win64; x64; rv:81.0) Gecko/20100101 Firefox/81.0'}\n",
        "\n",
        "coverage_area_response = requests.get(main_domain_url, headers=headers).text\n",
        "soup = BeautifulSoup(coverage_area_response, 'html.parser')\n",
        "\n",
        "raw_cov_area_df = get_cov_area_tag_df(soup)\n",
        "cov_area_df = pd.DataFrame(raw_cov_area_df[1:], columns=raw_cov_area_df[0])\n",
        "\n",
        "# Выгрузка 5 результатов в виде файла для демонстрации структуры датасета\n",
        "cov_area_df.head(5)"
      ],
      "execution_count": null,
      "outputs": [
        {
          "output_type": "execute_result",
          "data": {
            "text/html": [
              "<div>\n",
              "<style scoped>\n",
              "    .dataframe tbody tr th:only-of-type {\n",
              "        vertical-align: middle;\n",
              "    }\n",
              "\n",
              "    .dataframe tbody tr th {\n",
              "        vertical-align: top;\n",
              "    }\n",
              "\n",
              "    .dataframe thead th {\n",
              "        text-align: right;\n",
              "    }\n",
              "</style>\n",
              "<table border=\"1\" class=\"dataframe\">\n",
              "  <thead>\n",
              "    <tr style=\"text-align: right;\">\n",
              "      <th></th>\n",
              "      <th>Тип магазина</th>\n",
              "      <th>Примерная   площадь</th>\n",
              "      <th>Время доступа   пешком</th>\n",
              "      <th>Время доступа   на транспорте</th>\n",
              "      <th>Максимальное   расстояние</th>\n",
              "      <th>Реальное   расстояние</th>\n",
              "      <th>Радиус зоны   охвата</th>\n",
              "    </tr>\n",
              "  </thead>\n",
              "  <tbody>\n",
              "    <tr>\n",
              "      <th>0</th>\n",
              "      <td>Магазин шаговой доступности   (мини-маркет)</td>\n",
              "      <td>до 300 кв.   м</td>\n",
              "      <td>до 15 минут</td>\n",
              "      <td>–</td>\n",
              "      <td>~1,5 км</td>\n",
              "      <td>~1 км</td>\n",
              "      <td>1,0 км</td>\n",
              "    </tr>\n",
              "    <tr>\n",
              "      <th>1</th>\n",
              "      <td>Универсальный   магазин (миди-маркет, универма...</td>\n",
              "      <td>300–600 кв. м</td>\n",
              "      <td>до 30 минут</td>\n",
              "      <td>до 7 минут</td>\n",
              "      <td>~3,7 км</td>\n",
              "      <td>~2 км</td>\n",
              "      <td>2,5 км</td>\n",
              "    </tr>\n",
              "    <tr>\n",
              "      <th>2</th>\n",
              "      <td>Средние   специализированные и универсальные м...</td>\n",
              "      <td>600–2000 кв. м</td>\n",
              "      <td>до 60 минут</td>\n",
              "      <td>до 15 минут</td>\n",
              "      <td>~7,7 км</td>\n",
              "      <td>~4 км</td>\n",
              "      <td>5,0 км</td>\n",
              "    </tr>\n",
              "    <tr>\n",
              "      <th>3</th>\n",
              "      <td>Крупные   специализированные и универсальные м...</td>\n",
              "      <td>более 2000 кв.   м</td>\n",
              "      <td>до 120 минут</td>\n",
              "      <td>до 30 минут</td>\n",
              "      <td>~15 км</td>\n",
              "      <td>~10 км</td>\n",
              "      <td>12 км</td>\n",
              "    </tr>\n",
              "  </tbody>\n",
              "</table>\n",
              "</div>"
            ],
            "text/plain": [
              "                                        Тип магазина  ... Радиус зоны   охвата\n",
              "0        Магазин шаговой доступности   (мини-маркет)  ...               1,0 км\n",
              "1  Универсальный   магазин (миди-маркет, универма...  ...               2,5 км\n",
              "2  Средние   специализированные и универсальные м...  ...               5,0 км\n",
              "3  Крупные   специализированные и универсальные м...  ...                12 км\n",
              "\n",
              "[4 rows x 7 columns]"
            ]
          },
          "metadata": {
            "tags": []
          },
          "execution_count": 6
        }
      ]
    },
    {
      "cell_type": "markdown",
      "metadata": {
        "id": "SbMOtfgGIA8_"
      },
      "source": [
        "## Основные данные\n"
      ]
    },
    {
      "cell_type": "code",
      "metadata": {
        "id": "abpxFTVTIE0o"
      },
      "source": [
        "trade_place_data = pd.read_excel('https://github.com/Egozit/ds_master_dataton/raw/main/data/%D1%81%D1%82%D0%B0%D1%86%D0%B8%D0%BE%D0%BD%D0%B0%D1%80%D0%BD%D1%8B%D0%B5%20%D0%BE%D0%B1%D1%8A%D0%B5%D0%BA%D1%82%D1%8B.xlsx')\n",
        "service_place_data = pd.read_excel('https://github.com/Egozit/ds_master_dataton/raw/main/data/%D0%91%D1%8B%D1%82%D0%BE%D0%B2%D1%8B%D0%B5%20%D1%83%D1%81%D0%BB%D1%83%D0%B3%D0%B8.xlsx')\n",
        "tpu_data = pd.read_excel('https://github.com/Egozit/ds_master_dataton/raw/main/data/tpu.xlsx')\n",
        "\n",
        "service_place_data.drop(columns=['Latitude_WGS84', \n",
        "                                 'Longitude_WGS84'], \n",
        "                        inplace=True, \n",
        "                        errors='ignore')\n",
        "\n",
        "#Объединение данных торговых точек и точек услуг\n",
        "trade_place_data.append(service_place_data)\n",
        "\n",
        "#Создание \n",
        "trade_place_data['PlaceSize'] = 1\n",
        "new_columns = ['tpu_'+str(x) for x in list(tpu_data.columns)]\n",
        "trade_place_data[new_columns] = np.nan\n",
        "\n",
        "# Выгрузка 5 результатов в виде файла для демонстрации структуры датасета\n",
        "result = trade_place_data.head(5).to_json(orient=\"index\", force_ascii=False).encode('utf8')\n",
        "parsed = json.loads(result)\n",
        "with open('middle_results.json', 'w', encoding='utf8') as json_file:\n",
        "    json.dump(parsed, json_file, ensure_ascii=False, indent=4)"
      ],
      "execution_count": null,
      "outputs": []
    },
    {
      "cell_type": "code",
      "metadata": {
        "id": "VzXcPY5Vji56"
      },
      "source": [
        "# Выгрузка 5 результатов в виде файла для демонстрации структуры датасета\n",
        "result = trade_place_data.head(5).to_json(orient=\"index\", force_ascii=False).encode('utf8')\n",
        "parsed = json.loads(result)\n",
        "with open('middle_results.json', 'w', encoding='utf8') as json_file:\n",
        "    json.dump(parsed, json_file, ensure_ascii=False, indent=4)"
      ],
      "execution_count": null,
      "outputs": []
    },
    {
      "cell_type": "code",
      "metadata": {
        "id": "HztY34M9MQSx",
        "outputId": "3e3d4f31-f7e5-4681-d0f7-550e211a90f1",
        "colab": {
          "base_uri": "https://localhost:8080/",
          "height": 428
        }
      },
      "source": [
        "trade_place_data.head()"
      ],
      "execution_count": null,
      "outputs": [
        {
          "output_type": "execute_result",
          "data": {
            "text/html": [
              "<div>\n",
              "<style scoped>\n",
              "    .dataframe tbody tr th:only-of-type {\n",
              "        vertical-align: middle;\n",
              "    }\n",
              "\n",
              "    .dataframe tbody tr th {\n",
              "        vertical-align: top;\n",
              "    }\n",
              "\n",
              "    .dataframe thead th {\n",
              "        text-align: right;\n",
              "    }\n",
              "</style>\n",
              "<table border=\"1\" class=\"dataframe\">\n",
              "  <thead>\n",
              "    <tr style=\"text-align: right;\">\n",
              "      <th></th>\n",
              "      <th>global_id</th>\n",
              "      <th>Name</th>\n",
              "      <th>IsNetObject</th>\n",
              "      <th>OperatingCompany</th>\n",
              "      <th>TypeService</th>\n",
              "      <th>TypeObject</th>\n",
              "      <th>AdmArea</th>\n",
              "      <th>District</th>\n",
              "      <th>Address</th>\n",
              "      <th>PublicPhone</th>\n",
              "      <th>WorkingHours</th>\n",
              "      <th>ClarificationOfWorkingHours</th>\n",
              "      <th>PlaceSize</th>\n",
              "      <th>tpu_TPUName</th>\n",
              "      <th>tpu_global_id</th>\n",
              "      <th>tpu_AdmArea</th>\n",
              "      <th>tpu_District</th>\n",
              "      <th>tpu_NearStation</th>\n",
              "      <th>tpu_YearOfComissioning</th>\n",
              "      <th>tpu_Status</th>\n",
              "      <th>tpu_AvailableTransfer</th>\n",
              "      <th>tpu_CarCapacity</th>\n",
              "      <th>latitude</th>\n",
              "      <th>longitude</th>\n",
              "      <th>tpu_latitude</th>\n",
              "      <th>tpu_longitude</th>\n",
              "    </tr>\n",
              "  </thead>\n",
              "  <tbody>\n",
              "    <tr>\n",
              "      <th>0</th>\n",
              "      <td>637390942</td>\n",
              "      <td>Одежда. Обувь. Промтовары</td>\n",
              "      <td>нет</td>\n",
              "      <td>NaN</td>\n",
              "      <td>реализация непродовольственных товаров</td>\n",
              "      <td>Магазин «Промтовары»</td>\n",
              "      <td>Северный административный округ</td>\n",
              "      <td>район Беговой</td>\n",
              "      <td>город Москва, Беговая аллея, дом 3А</td>\n",
              "      <td>(977) 757-40-37</td>\n",
              "      <td>День недели: понедельник\\nЧасы работы: 09:30-2...</td>\n",
              "      <td>NaN</td>\n",
              "      <td>1</td>\n",
              "      <td>NaN</td>\n",
              "      <td>NaN</td>\n",
              "      <td>NaN</td>\n",
              "      <td>NaN</td>\n",
              "      <td>NaN</td>\n",
              "      <td>NaN</td>\n",
              "      <td>NaN</td>\n",
              "      <td>NaN</td>\n",
              "      <td>NaN</td>\n",
              "      <td>37.564782</td>\n",
              "      <td>55.7833609999999</td>\n",
              "      <td>NaN</td>\n",
              "      <td>NaN</td>\n",
              "    </tr>\n",
              "    <tr>\n",
              "      <th>1</th>\n",
              "      <td>637391109</td>\n",
              "      <td>АЙКОВЕР</td>\n",
              "      <td>нет</td>\n",
              "      <td>NaN</td>\n",
              "      <td>реализация непродовольственных товаров</td>\n",
              "      <td>Магазин-салон</td>\n",
              "      <td>Центральный административный округ</td>\n",
              "      <td>Тверской район</td>\n",
              "      <td>город Москва, Новослободская улица, дом 50/1, ...</td>\n",
              "      <td>(499) 250-12-40</td>\n",
              "      <td>День недели: понедельник\\nЧасы работы: 10:00-2...</td>\n",
              "      <td>NaN</td>\n",
              "      <td>1</td>\n",
              "      <td>NaN</td>\n",
              "      <td>NaN</td>\n",
              "      <td>NaN</td>\n",
              "      <td>NaN</td>\n",
              "      <td>NaN</td>\n",
              "      <td>NaN</td>\n",
              "      <td>NaN</td>\n",
              "      <td>NaN</td>\n",
              "      <td>NaN</td>\n",
              "      <td>37.59484948239575</td>\n",
              "      <td>55.78655886388782</td>\n",
              "      <td>NaN</td>\n",
              "      <td>NaN</td>\n",
              "    </tr>\n",
              "    <tr>\n",
              "      <th>2</th>\n",
              "      <td>637391684</td>\n",
              "      <td>Магазин «Радуга»</td>\n",
              "      <td>нет</td>\n",
              "      <td>NaN</td>\n",
              "      <td>реализация продовольственных товаров</td>\n",
              "      <td>Магазин «Продукты»</td>\n",
              "      <td>Юго-Восточный административный округ</td>\n",
              "      <td>район Марьино</td>\n",
              "      <td>город Москва, Марьинский бульвар, дом 4</td>\n",
              "      <td>(909) 977-22-02</td>\n",
              "      <td>День недели: понедельник\\nЧасы работы: 10:00-2...</td>\n",
              "      <td>NaN</td>\n",
              "      <td>1</td>\n",
              "      <td>NaN</td>\n",
              "      <td>NaN</td>\n",
              "      <td>NaN</td>\n",
              "      <td>NaN</td>\n",
              "      <td>NaN</td>\n",
              "      <td>NaN</td>\n",
              "      <td>NaN</td>\n",
              "      <td>NaN</td>\n",
              "      <td>NaN</td>\n",
              "      <td>37.749818553954185</td>\n",
              "      <td>55.64795541517657</td>\n",
              "      <td>NaN</td>\n",
              "      <td>NaN</td>\n",
              "    </tr>\n",
              "    <tr>\n",
              "      <th>3</th>\n",
              "      <td>637391714</td>\n",
              "      <td>Точка любви</td>\n",
              "      <td>да</td>\n",
              "      <td>Точка любви</td>\n",
              "      <td>реализация непродовольственных товаров</td>\n",
              "      <td>Прочие специализированные непродовольственные ...</td>\n",
              "      <td>Северный административный округ</td>\n",
              "      <td>район Беговой</td>\n",
              "      <td>город Москва, Ленинградский проспект, дом 12</td>\n",
              "      <td>(985) 780-51-78</td>\n",
              "      <td>День недели: понедельник\\nЧасы работы: 10:00-2...</td>\n",
              "      <td>NaN</td>\n",
              "      <td>1</td>\n",
              "      <td>NaN</td>\n",
              "      <td>NaN</td>\n",
              "      <td>NaN</td>\n",
              "      <td>NaN</td>\n",
              "      <td>NaN</td>\n",
              "      <td>NaN</td>\n",
              "      <td>NaN</td>\n",
              "      <td>NaN</td>\n",
              "      <td>NaN</td>\n",
              "      <td>37.578783498641165</td>\n",
              "      <td>55.78018806474115</td>\n",
              "      <td>NaN</td>\n",
              "      <td>NaN</td>\n",
              "    </tr>\n",
              "    <tr>\n",
              "      <th>4</th>\n",
              "      <td>637391844</td>\n",
              "      <td>ПРОДУКТЫ</td>\n",
              "      <td>нет</td>\n",
              "      <td>NaN</td>\n",
              "      <td>реализация продовольственных товаров</td>\n",
              "      <td>Магазин «Продукты»</td>\n",
              "      <td>Юго-Восточный административный округ</td>\n",
              "      <td>район Лефортово</td>\n",
              "      <td>город Москва, Волочаевская улица, дом 40Б</td>\n",
              "      <td>(495) 361-17-35</td>\n",
              "      <td>День недели: понедельник\\nЧасы работы: круглос...</td>\n",
              "      <td>NaN</td>\n",
              "      <td>1</td>\n",
              "      <td>NaN</td>\n",
              "      <td>NaN</td>\n",
              "      <td>NaN</td>\n",
              "      <td>NaN</td>\n",
              "      <td>NaN</td>\n",
              "      <td>NaN</td>\n",
              "      <td>NaN</td>\n",
              "      <td>NaN</td>\n",
              "      <td>NaN</td>\n",
              "      <td>37.67813953250334</td>\n",
              "      <td>55.75248197832822</td>\n",
              "      <td>NaN</td>\n",
              "      <td>NaN</td>\n",
              "    </tr>\n",
              "  </tbody>\n",
              "</table>\n",
              "</div>"
            ],
            "text/plain": [
              "   global_id                       Name  ... tpu_latitude tpu_longitude\n",
              "0  637390942  Одежда. Обувь. Промтовары  ...          NaN           NaN\n",
              "1  637391109                    АЙКОВЕР  ...          NaN           NaN\n",
              "2  637391684           Магазин «Радуга»  ...          NaN           NaN\n",
              "3  637391714                Точка любви  ...          NaN           NaN\n",
              "4  637391844                   ПРОДУКТЫ  ...          NaN           NaN\n",
              "\n",
              "[5 rows x 26 columns]"
            ]
          },
          "metadata": {
            "tags": []
          },
          "execution_count": 28
        }
      ]
    },
    {
      "cell_type": "code",
      "metadata": {
        "id": "yUmtcMSLNpUX",
        "outputId": "c4d6634c-8bb5-43de-ac25-5142936a69c9",
        "colab": {
          "base_uri": "https://localhost:8080/",
          "height": 476
        }
      },
      "source": [
        "trade_place_data.dtypes"
      ],
      "execution_count": null,
      "outputs": [
        {
          "output_type": "execute_result",
          "data": {
            "text/plain": [
              "global_id                        int64\n",
              "Name                            object\n",
              "IsNetObject                     object\n",
              "OperatingCompany                object\n",
              "TypeService                     object\n",
              "TypeObject                      object\n",
              "AdmArea                         object\n",
              "District                        object\n",
              "Address                         object\n",
              "PublicPhone                     object\n",
              "WorkingHours                    object\n",
              "ClarificationOfWorkingHours     object\n",
              "PlaceSize                        int64\n",
              "tpu_TPUName                    float64\n",
              "tpu_global_id                  float64\n",
              "tpu_AdmArea                    float64\n",
              "tpu_District                   float64\n",
              "tpu_NearStation                float64\n",
              "tpu_YearOfComissioning         float64\n",
              "tpu_Status                     float64\n",
              "tpu_AvailableTransfer          float64\n",
              "tpu_CarCapacity                float64\n",
              "latitude                        object\n",
              "longitude                       object\n",
              "tpu_latitude                   float64\n",
              "tpu_longitude                  float64\n",
              "dtype: object"
            ]
          },
          "metadata": {
            "tags": []
          },
          "execution_count": 31
        }
      ]
    },
    {
      "cell_type": "code",
      "metadata": {
        "id": "2a_7fOV9bA-T"
      },
      "source": [
        "trade_place_data['latitude'], trade_place_data['longitude'] = zip(*trade_place_data.geoData.str.strip('{type=Point, coordinates=[]}').str.split(', '))\n",
        "trade_place_data = trade_place_data.drop(columns=['geoData'])\n",
        "trade_place_data['tpu_latitude'] = np.nan\n",
        "trade_place_data['tpu_longitude'] = np.nan\n",
        "trade_place_data = trade_place_data.drop(columns=['tpu_geoData'])\n",
        "trade_place_data = trade_place_data.drop(columns=['ID', 'tpu_ID'])"
      ],
      "execution_count": null,
      "outputs": []
    },
    {
      "cell_type": "code",
      "metadata": {
        "id": "lv9eQVo0NrHD"
      },
      "source": [
        "tpu_data['tpu_latitude'], tpu_data['tpu_longitude'] = zip(*tpu_data.geoData.str.strip('{type=Point, coordinates=[]}').str.split(', '))\n",
        "tpu_data = tpu_data.drop(columns=['geoData'])\n"
      ],
      "execution_count": null,
      "outputs": []
    }
  ]
}